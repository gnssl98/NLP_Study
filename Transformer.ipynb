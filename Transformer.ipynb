{
 "cells": [
  {
   "cell_type": "markdown",
   "id": "ae99594a-bdbf-42b6-a13c-77b2adeda6d7",
   "metadata": {
    "jp-MarkdownHeadingCollapsed": true
   },
   "source": [
    "# Doit! BERT와 GPT로 배우는 자연어 처리\n",
    "### 저자 이기창\n"
   ]
  },
  {
   "attachments": {},
   "cell_type": "markdown",
   "id": "d4c3c6b4-4b2c-409d-8d63-5a62a56b7909",
   "metadata": {},
   "source": [
    "# 언어 모델(Language Model)\n",
    "* 단어 시퀀스에 확률을 부여하는 모델\n",
    "* 단어 시퀀스를 입력받아 해당 시퀀스가 얼마나 그럴듯한지 확률을 출력하는 모델\n",
    "* i번째로 등장하는 단어를 $w_i$로 표시한다면 n개 단어로 구성된 문장이 해당 언어에서 등장할 확률 -> 언어 모델의 출력을 수식처럼 쓸 수 있다.(결합 확률)\n",
    "* P($w_1,w_2,w_3,...,w_n$)\n",
    "* $P(w_1,w_2,w_3)=P(w_1)\\times P(w_2|w_1)\\times P(w_3|w_1,w_2)$\n",
    "-> 단어 3개로 구성된 문장이 나타나려면 다음 3가지 사건이 동시에 일어나야 한다.\n",
    "  > 첫 번째 단어($w_1$) 등장 <br>\n",
    "  > 첫 번째 단어 등장 후 두 번째 단어($w_2$) 등장<br>\n",
    "  > 첫 번째 단어 등장 후 두 번째 단어 등장 후 세 번째 단어($w_3$) 등장\n",
    "\n",
    "### 전체 단어 시퀀스가 나타날 확률은 이전 단어들이 주어졌을 때 다음 단어가 등장할 확률의 연쇄와 ㄱ타다.\n",
    "### 이렇기에 언어 모델을 이전 단어들이 주어졌을 때 다음 단어가 나타날 확률을 부여하는 모델이라고도 함\n",
    "\n",
    "### $P(w_1,w_2,w_3,...,w_n)= \\prod_{i=1}^{n} P(w_i | w_1, \\dots, w_{i-1})$\n",
    "\n",
    "<hr>\n",
    "\n",
    "# 순방향 언어 모델\n",
    "* 사람이 이해하는 순서대로 계산하는 모델\n",
    "* GPT, ELMo 같은 모델이 이런 방식으로 pretrain을 수행\n",
    "\n",
    "# 역방향 언어 모델\n",
    "* 문장 뒤부터 앞으로 계산하는 모델\n",
    "* ELMo-> 순방향과 역방향 언어 모델 모두 활용하는 기법\n",
    "* https://github.com/allenai/allennlp-models\n",
    "\n",
    "# 넓은 의미의 언어 모델\n",
    "### $P(w|context)$\n",
    "* context(주변 맥락 정보)가 전제된 상태에서 특정 단어(w)가 나타날 조건부 확률을 나타낸다.\n",
    "* 이렇게 정의된 언어 모델은 단어나 단어 시퀀스로 구성된 컨텍스트를 입력받아 특정 단어가 나타날 확률을 출력\n",
    "* context와 맞힐 단어를 어떻게 설정하느냐에 따라 다양하게 변형 가능\n",
    "\n",
    "# 마스크 언어 모델(Masked Language Model)\n",
    "* 학습 대상 문장에 빈칸을 만들어 놓고 해당 빈칸에 올 단어로 적절한 단어가 무엇일지 분류하는 과정으로 학습 (수능 영어 빈칸 맞추기)\n",
    "* BERT가 마스크 언어 모델로 해당\n",
    "* 맞힐 단어 이전 단어들만 참고할 수 있는 순방향 역방향 언어 모델과 달리 마스크 언어 모델은 맞힐 단어를 계산할 때 문장 전체의 맥락을 참고할 수 있다는 장점이 있다.\n",
    "* 양방향 성질 있음\n",
    "\n",
    "# 스킵-그램 모델(skip-gram model)\n",
    "* 어떤 단어 앞뒤에 특정 범위를 정해 두고 이 범위 내에 어떤 단어들이 올지 분류하는 과정으로 학습\n",
    "예시)<br>\n",
    "(어제 카페 갔었어 거기 사람) 많더라<br>\n",
    "<br>\n",
    "어제 (카페 갔었어 거기 사람 많더라)\n",
    "<br>\n",
    "\n",
    "* context로 설정한 단어 주변에 어떤 단어들이 분포해 있는지를 학습\n",
    "* 구글에서 발표한 단어 수준 임베딩 기법인 Word2Vec이 스킵 - 그램 모델 방식으로 학습\n",
    "* https://github.com/tmikolov/word2vec\n",
    "\n",
    "<hr>\n",
    "\n",
    "# 언어 모델의 유용성\n",
    "잘 학습된 언어 모델 -> 어떤 문장이 자연스러운지 가려낼 수 있어 그 자체로 값어치가 있다.\n",
    "<br> 학습 대상 언어와 풍부한 맥락을 포함하고 있다는 점 역시 장점\n",
    "\n",
    "\n",
    "https://arxiv.org/abs/2005.14165\n",
    "\n",
    "* 기계 번역 : P(?|You can't be free from death)\n",
    "* 문법 교정 : P(두시 삼십 이분)>P(이시 서른 두분)\n",
    "* 문장 생성 : P(?|발 없는 말이)\n",
    "\n",
    "트랜스퍼 러닝 -> 대량의 말뭉치로 pretrain한 언어 모델을 문서 분류, 개체명 인식 등 다운스트림 태스크에 적용하면 적은 양의 데이터로도 그 성능을 큰 폭으로 올릴 수 있다. \n",
    "<br>\n",
    "최근에 제안되는 기법들은 pretrain을 마친 딥러닝계열 언어 모델을 바탕으로 할 때가 많음\n",
    "<hr>\n",
    "\n",
    "# 트랜스포머\n",
    "* Sequence to Sequence 모델\n",
    "## Sequence to Sequence\n",
    "특정 속성을 지닌 시퀀스를 다른 속성의 시퀀스로 변환하는 작업\n",
    "기계 번역-> 어떤 언어의 토큰 시퀀스를 다른 언어의 토큰 시퀀스로 변환하는 과제\n",
    "\n",
    "### Enocder \n",
    "* 소스 시퀀스의 정보를 압축하는 과정\n",
    "### Decoder\n",
    "* 타귓 시퀀스를 생성하는 과정\n",
    "\n",
    "\n",
    "<img src=\"ratsgo's NLPBOOK.png\" alt=\"Transformer의 구조\">\n",
    "이미지 출처 : ratsgo's NLPBOOK\n",
    "\n",
    "트랜스포머의 최종 출력, 즉 디코더 출력(그림 3-8에서 다음 토큰 확률)은 타깃 언어의 어휘수만큼의 차원으로 구성된 벡터(vector) 입니다. 이 벡터의 특징은 요소(element)값이 모두 확률이라는 점입니다. 예를 들어 타깃 언어의 어휘가 총 3만 개라고 가정해 보면 디코더 출력은 3만 차원의 벡터입니다. 이 벡터의 요솟값 3만 개 각각은 확률이므로 0 이상 1 이하의 값을 가지며 모두 더하면 1이 됩니다.\n",
    "<br>\n",
    "\n",
    "트랜스포머의 학습은 인코더와 디코더 입력이 주어졌을 때 정답에 해당하는 단어의 확률값을 높이는 방식으로 수행됩니다. 이를 나타낸 다음 그림에서 모델은 이번 시점의 정답인 I에 해당하는 확률은 높이고 나머지 단어의 확률은 낮아지도록 모델 전체를 갱신합니다.\n",
    "\n",
    "<hr>\n",
    "\n",
    "# 트랜스포머 블록\n",
    "다음 그림은 트랜스포머의 인코더 가운데 반복되는 요소를 떼어내 다시 나타낸 것입니다.<br>\n",
    "이런 구조를 블록(block) 또는 레이어(layer) 라고 합니다. 트랜스포머의 인코더는 이러한 블록 수십 개를 쌓아서 구성합니다.<br>\n",
    "인코더 -> Multi-head attention, Feedforward neural network, Residual connection, Layer normalization<br>\n",
    "디코더 -> 인코더와 비슷 +masked multi-head attention, 인코더가 보내온 정보와 디코더 입력을 함께 이용해 Multi-head attention을 수행하는 모듈 추가<br>\n",
    "<br>\n",
    "\n",
    "\n",
    "# Attention\n",
    "어텐션이 없는 단순 RNN을 사용하면 워낙 초반에 입력된 단어라 모델이 잊었을 가능성이 크고, 이 때문에 번역 품질이 낮아질 수 있습니다.<br>\n",
    "\n",
    "어제 카페 갔었어 거기 ... I Went to cafe ...\n",
    "<br>\n",
    "어텐션은 이러한 문제점을 해결하고자 제안- > 디코더 쪽 RNN에 어텐션을 추가<br>\n",
    "어텐션은 디코더가 타깃 시퀀스를 생성할 때 소스 시퀀스 전체에서 어떤 요소에 주목해야 할지를 알려주므로 카페가 소스 시퀀스 초반에 등장하거나, 소스 시퀀스의 길이가 길어지더라도 번역 품질이 떨어지는 것을 막을 수 있다.\n",
    "<br>\n",
    "\n",
    "# Self Attention\n",
    "시퀀스 요소 가운데 중요한 요소에 집중하고 그렇지 않은 요소는 무시해 Task 수행 성능을 끌어 올린다.\n",
    "<br>\n",
    "어텐션과 셀프 어텐션의 주요 차이를 살펴보면 다음과 같습니다.\n",
    "<br>\n",
    "1. 어텐션은 소스 시퀀스 전체 단어들(어제, 카페, ... ,많더라)과 타깃 시퀀스 단어 하나(cafe) 사이를 연결하는 데 쓰입니다. 반면 셀프 어텐션은 입력 시퀀스 전체 단어들 사이를 연결합니다.\n",
    "\n",
    "2. 어텐션은 RNN 구조 위에서 동작하지만 셀프 어텐션은 RNN 없이 동작합니다.\n",
    "\n",
    "3. 타깃 언어의 단어를 1개 생성할 때 어텐션은 1회 수행하지만 셀프 어텐션은 인코더, 디코더 볼록의 개수만큼 반복 수행합니다.\n",
    "<br>\n",
    "### 구성\n",
    "Query, Key, Value의 3가지 요소가 서로 영ㅇ향을 주고받는 구조\n",
    "<br>\n",
    "트랜스포머 블록에는 문장 내 각 단어가 Vector 형태로 입력\n",
    "<br>\n",
    "\n",
    "| **쿼리** | **키** |\n",
    "|---------|------|\n",
    "| 어제    | 0.1 어제  |\n",
    "| <font color=\"red\">카페</font>   | 0.1 카페  |\n",
    "| 갔었어  | 0.2 갔었어 |\n",
    "| 거기    | 0.4 거기  |\n",
    "| 사람    | 0.1 사람  |\n",
    "| 많더라  | 0.1 많더라 |\n",
    "\n",
    "<center> <그림 3-22 셀프 어텐션 계산 예시></center>\n",
    "<br>\n",
    "셀프 어텐션은 쿼리 단어 각각을 대상으로 모든 키 단어의 얼마나 유기적인 관계를 맺는지 그 합이 1인 확률값으로 표현(sofrmax와 비슷)<br>\n",
    "그림을 보면 **카페**라는 쿼리 단어와 가장 관련이 높은 키 단어는 **거기**라는 점(0.4)을 확인할 수 있다.\n",
    "\n",
    "셀프 어텐션 모듈은 이러한 결과에 밸류 벡터들을 ***가중합(weighted sum)*** 하는 방식으로 계산을 마무리한다.\n",
    "이를 다음 수식처럼 나타낼 수 있습니다. 새롭게 만들어지는 ***카페*** 벡터(***$Z_{\\text{카페}}$***)는 문장에 속한 단어와 카페 사이의 관계가 녹아 있습니다.\n",
    "\n",
    "$Z_{\\text{카페}} = 0.1 \\times V_{\\text{어제}} + 0.1 \\times V_{\\text{카페}} + 0.2 \\times V_{\\text{갔었어}} + 0.4 \\times V_{\\text{거기}} + 0.1 \\times V_{\\text{사람}} + 0.1 \\times V_{\\text{많더라}} $\n",
    "\n",
    "<br>\n",
    "이런 방식으로 나머지 단어들도 셀프 어탠션을 가각 수행\n",
    "<br>\n",
    "모든 시퀀스르 대상으로 셀프 어텐션 계산이 끝나면 그 결과를 다음 블록으로 넘긴다.<br>\n",
    "이처럼 트랜스포머 모델은 셀프 어텐션을 블록(Layer) 수만큼 반복\n",
    "\n",
    "\n"
   ]
  },
  {
   "cell_type": "markdown",
   "id": "3bae2e62-d694-4b0c-978b-95b13a1389d5",
   "metadata": {},
   "source": [
    "# Input Layer\n",
    "모델의 입력을 만드는 계층\n",
    "\n",
    "\n",
    "<img src=\"input_layer.png\">\n",
    "이미지 출처 : ratsgo's NLPBOOK\n",
    "\n",
    "인코더의 입력은 소스 시퀀스의 입력 임베딩에 Positional Encoding을 더해서 만든다.\n",
    "Positional Encoding -> 해당 단어의 위치 정보\n",
    "\n",
    "(1) Query, Key, Value 만들기<br>\n",
    "단어 임베딩 차원 수 (d) = 4, 인코더에 입력된 단어 개수가 3일 경우 X는 3X4 행렬\n",
    "$$ Q = X \\times W_Q $$\n",
    "$$ K = X \\times W_K $$\n",
    "$$ V = X \\times W_V $$\n",
    "\n",
    "ex) Query 만들기\n",
    "\n",
    "\n",
    "$$\n",
    "\\begin{bmatrix} \n",
    "1 & 0 & 1 & 0 \\\\\n",
    "0 & 2 & 0 & 2 \\\\\n",
    "1 & 1 & 1 & 1\n",
    "\\end{bmatrix}\n",
    "\\times\n",
    "\\begin{bmatrix} \n",
    "1 & 0 & 1 \\\\\n",
    "1 & 0 & 0 \\\\\n",
    "0 & 0 & 1\\\\\n",
    "0 & 1 & 1\n",
    "\\end{bmatrix}\n",
    "=\n",
    "\\begin{bmatrix} \n",
    "1 & 0 & 2 \\\\\n",
    "2 & 2 & 2 \\\\\n",
    "2 & 1 & 3\n",
    "\\end{bmatrix}\n",
    "$$\n",
    "\n",
    "이런식으로 Q가 생성되고\n",
    "$$W_Q , W_K, W_V $$ 은 task를 가장 잘 수행하는 방향으로 학습 과정에서 업데이트\n",
    "\n",
    "### 셀프 어텐션의 정의\n",
    "\n",
    "\n",
    "$$Attention(Q,K,V) = softmax(QK^T / \\sqrt d_k)V$$\n",
    "\n"
   ]
  },
  {
   "cell_type": "code",
   "execution_count": 11,
   "id": "1cebc4e7-6d7d-4486-aab3-e690a609e9fc",
   "metadata": {},
   "outputs": [],
   "source": [
    "#코드 3-1 변수 정의\n",
    "import torch\n",
    "x = torch.tensor([\n",
    "    [1.0, 0.0, 1.0, 0.0],\n",
    "    [0.0, 2.0, 0.0, 2.0],\n",
    "    [1.0, 1.0, 1.0, 1.0],\n",
    "])\n",
    "w_query = torch.tensor([\n",
    "    [1.0, 0.0, 1.0],\n",
    "    [1.0, 0.0, 0.0],\n",
    "    [0.0, 0.0, 1.0],\n",
    "    [0.0, 1.0, 1.0]                        \n",
    "])\n",
    "w_key = torch.tensor([\n",
    "    [0.0, 0.0, 1.0],\n",
    "    [1.0, 1.0, 0.0],\n",
    "    [0.0, 1.0, 0.0],\n",
    "    [1.0, 1.0, 0.0]                  \n",
    "])\n",
    "w_value = torch.tensor([\n",
    "    [0.0, 2.0, 1.0],\n",
    "    [0.0, 3.0, 0.0],\n",
    "    [1.0, 0.0, 0.0],\n",
    "    [1.0, 1.0, 0.0]                        \n",
    "])"
   ]
  },
  {
   "cell_type": "code",
   "execution_count": 2,
   "id": "e852b3c0-19f4-4dd5-aabc-05eda7730618",
   "metadata": {},
   "outputs": [],
   "source": [
    "#코드 3-2 쿼리, 키, 밸류 만들기\n",
    "keys = torch.matmul(x, w_key)\n",
    "querys = torch.matmul(x, w_query)\n",
    "values = torch.matmul(x, w_value)"
   ]
  },
  {
   "cell_type": "code",
   "execution_count": 4,
   "id": "90ff3a36-5f55-43a3-ac80-b813f712f9a1",
   "metadata": {},
   "outputs": [
    {
     "name": "stdout",
     "output_type": "stream",
     "text": [
      "tensor([[0., 1., 1.],\n",
      "        [4., 4., 0.],\n",
      "        [2., 3., 1.]])\n"
     ]
    }
   ],
   "source": [
    "print(keys)"
   ]
  },
  {
   "cell_type": "code",
   "execution_count": 5,
   "id": "d0ea724b-330d-4f01-978a-412f3e15b033",
   "metadata": {},
   "outputs": [],
   "source": [
    "#코드 3-3 어텐션 스코어 만들기\n",
    "attn_scores = torch.matmul(querys, keys.T)"
   ]
  },
  {
   "cell_type": "code",
   "execution_count": 6,
   "id": "7c3b0ea2-4768-478b-9d42-5d6bd94bce20",
   "metadata": {},
   "outputs": [
    {
     "data": {
      "text/plain": [
       "tensor([[ 2.,  4.,  4.],\n",
       "        [ 4., 16., 12.],\n",
       "        [ 4., 12., 10.]])"
      ]
     },
     "execution_count": 6,
     "metadata": {},
     "output_type": "execute_result"
    }
   ],
   "source": [
    "attn_scores"
   ]
  },
  {
   "cell_type": "code",
   "execution_count": 7,
   "id": "af00234a-b2e0-4113-bef9-05970ba7c065",
   "metadata": {},
   "outputs": [],
   "source": [
    "#코드 3-4 소프트맥스 확률값 만들기\n",
    "import numpy as np\n",
    "from torch.nn.functional import softmax\n",
    "key_dim_sqrt = np.sqrt(keys.shape[-1])\n",
    "attn_probs = softmax(attn_scores / key_dim_sqrt, dim=-1)"
   ]
  },
  {
   "cell_type": "code",
   "execution_count": 8,
   "id": "1fe3a04a-9487-47e5-8146-21b07fc90259",
   "metadata": {},
   "outputs": [
    {
     "data": {
      "text/plain": [
       "tensor([[1.3613e-01, 4.3194e-01, 4.3194e-01],\n",
       "        [8.9045e-04, 9.0884e-01, 9.0267e-02],\n",
       "        [7.4449e-03, 7.5471e-01, 2.3785e-01]])"
      ]
     },
     "execution_count": 8,
     "metadata": {},
     "output_type": "execute_result"
    }
   ],
   "source": [
    "attn_probs"
   ]
  },
  {
   "cell_type": "code",
   "execution_count": 9,
   "id": "aeb37f4c-fee7-43f3-aeed-a82c1f3efca8",
   "metadata": {},
   "outputs": [],
   "source": [
    "#코드 3-5 소프트맥스 확률과 밸류를 가중합하기\n",
    "weighted_values = torch.matmul(attn_probs, values)"
   ]
  },
  {
   "cell_type": "code",
   "execution_count": 10,
   "id": "bab26d0d-8fc0-4e4a-8749-95d565047128",
   "metadata": {},
   "outputs": [
    {
     "data": {
      "text/plain": [
       "tensor([[1.8639, 6.3194, 0.5681],\n",
       "        [1.9991, 7.8141, 0.0912],\n",
       "        [1.9926, 7.4796, 0.2453]])"
      ]
     },
     "execution_count": 10,
     "metadata": {},
     "output_type": "execute_result"
    }
   ],
   "source": [
    "weighted_values"
   ]
  },
  {
   "cell_type": "markdown",
   "id": "e8d26a93-6e38-4727-b287-43a99517d68a",
   "metadata": {},
   "source": [
    "<hr>\n",
    "셀프 언텐션의 학습 대상 -> Query, key, Value를 만드는 가중치 행렬 $$(W_Q, W_K, W_V)  $$ 이다.\n",
    "<br>\n",
    "코드 예시에서는 w_query, w_key, w_value 이다.<br> 이들을 task(예를 들면 기계 번역)를 가장 잘 수행하는 방향으로 학습 과정에서 업데이트\n",
    "\n",
    "# 멀티 헤드 어텐션(Multi Head Attention)\n",
    "* Self-Attention을 동시에 여러번 수행하는 것\n",
    "\n",
    "<그림 3-27>\n",
    "<img src=\"multihead.png\">\n",
    "출처 : ratsgo's NLPBOOK\n",
    "\n",
    "그림 3-2은 입력 단어 수는 2개, Value의 차원은 3개, Head는 8개인 멀티 헤드 어텐션<br>\n",
    "개별 헤드의 셀프 어탠션 수행 결과는 '입력 단어 수 X Value 차원 수' -> 2x3 크기 행렬<br>\n",
    "8개 Head의 셀프 어텐션 수행 결과를 이어 붙이면 2 X 24 크기의 행렬이 된다.<br>\n",
    "\n",
    "그 후 멀티 해드 어텐션은 개별 헤드의 셀프 어텐션 수행 결과를 이어붙인 행렬에 $$ W^O$$를 행렬곱하여 마무리 된다.\n",
    "<br>\n",
    "$$ W^O$$의 크기는 '셀프 어텐션 수행 결과 행렬의 열 수 X 목표 차원 수' 가 된다.<br>\n",
    "만일 멀티 헤드 어텐션 수행 결과(Z)를 앞의 그림처럼 3차원으로 설정해 두고 싶다면 $$ W^O$$는 24 X 3 크기의 행렬이 되어야 한다.\n",
    "\n",
    "* 멀티 헤드 어텐션의 최종 수행 결과는 '입력 단어  목표 차원 수'이다. \n",
    "* 앞의 그림에서는 입력 단어 2개 각각에 대해 3차원짜리 벡터가 멀티 헤드 어텐션의 최종 결과물로 도출되었다. \n",
    "* 멀티 헤드 어텐션은 인코더, 디코더 블록 모두에 적용된다.\n",
    "\n",
    "<그림 3-28>\n",
    "<img src=\"encoder.png\">\n",
    "출처 : https://github.com/KimYoungHyeop/Transformer-HuggingFace/blob/main/Chapter_3_2022_03_12.ipynb\n",
    "\n",
    "인코더에서 수행되는 셀프 어텐션은 쿼리, 키, 밸류가 모두 소스 시퀀스와 관련된 정보이다.\n",
    "<br>트랜스포머의 학습 과제가 한국어에서 영어로 번역하는 task라면 인코더의 쿼리, 키, 밸류는 모두 한국어가 된다.\n",
    "<br>\n",
    "<img src=\"1.jpeg\"><br>\n",
    "출처 : ratsgo's NLPBOOK<br>\n",
    "다음 그림은 쿼리가 어제일 때 셀프 어텐션을 나타냈습니다.\n",
    "<br>잘 학습된 트랜스포머라면 쿼리, 키로부터 계산한 소프트맥스 확률(코드 3-5의 attn_probs에 대응) 가운데 과거 시제에 해당하는 <b>갔었어, 많더라</b> 등의 단어가 높은 값을 지닐 것이다. 이 확률과 밸류 벡터를 가중합해서 셀프 어텐션 계산을 마친다.\n",
    "<img src=\"2.jpeg\"><br>\n",
    "출처 : ratsgo's NLPBOOK\n",
    "\n",
    "이러한 계산을 <b>갔었어, 거기, 사람, 많더라</b>를 대상으로도 수행합니다. 결국 인코더에서 수행하는 셀프 어텐션은 소스 시퀀스 내의 모든 단어 쌍(pair) 사이의 관계를 고려하게 됩니다.\n",
    "<hr>\n",
    "\n",
    "## 디코더\n",
    "\n",
    "<img src=\"Decoder.jpeg\">\n",
    "출처 : Doit! BERT와 GPT로 배우는 자연어 처리 \n",
    "\n",
    "다음 그림은 인코더와 디코더 블록을 나타낸 그림이다. \n",
    "<br>그림에서도 확인할 수 있듯이 디코더 입력은 인코더 마지막 블록에서 나온 소스 단어 벡터 시퀀스(그림에서 붉은색 실선), 이전 디코더 블록의 수행 결과로 도출된 타깃 단어 벡터 시퀀스(그림에서 파란색 실선)이다.\n",
    "\n",
    "디코더에서 수행되는 셀프 어텐션 -> Masked Multi-Head Attention\n",
    "\n",
    "타깃 언어의 단어 벡터 시퀀스를 계산 대상으로 한다.<br>\n",
    "한국어를 영어로 번역하는 task를 수행하는 트랜스포머 모델이라면 여기서 계산되는 대상은 영어 단어 시퀀스\n",
    "정답을 포함한 타깃 시퀀스의 미래 정보를 셀프 어텐션 계산에서 제외(마스킹) 하게 된다.\n",
    "이를 통해 마스크된 부분을 예측하는 방향으로 모델 학습\n",
    "구체적으로 타깃 시퀀스에 대한 Mask Multi-Head Attention 계산 시 제외 대상 단어들의 Softmax 확률이 0이 되도록 하여 Multi-Head Attention에서도 해당 단어 정보들이 무시되게 하는 방식으로 수행\n",
    "<hr>\n",
    "\n",
    "트랜스포머 모델은 이런 방식으로 말뭉치 전체를 훑어가면서 반복 학습한다. 학습을 마친 모델은 다음처럼 기계 번역을 수행(인퍼런스)한다.\n",
    ">1. 소스 언어(한국어) 문장을 인코더에 입력해 인코더 마지막 블록의 단어 벡터 시퀀스를 추출합니다.\n",
    ">2. 인코더에서 넘어온 소스 언어 문장 정보와 디코더에 타깃 문장 시작을 알리는 스페셜 토큰 (s) 를 넣어서, 타깃 언어(영어)의 첫 번째 토큰을 생성합니다.\n",
    ">   3. 인코더 쪽에서 넘어온 소스 언어 문장 정보와 이전에 생성된 타깃 언어 토큰 시퀀스를 디코더에 넣어서 만든 정보로 타깃 언어의 다음 토큰을 생성합니다.\n",
    ">   4. 생성된 문장 길이가 충분하거나 문장 끝을 알리는 스페셜 토큰 (s) 가 나올 때까지 3번 과정을 반복합니다.\n",
    "\n",
    "한편 (s) 는 보통 타깃 언어 문장 맨 마지막에 붙여서 학습한다. 이 토큰이 나타났다는 것은 모델이 타깃 문장 생성을 마쳤다는 의미이다.\n",
    "\n"
   ]
  },
  {
   "cell_type": "code",
   "execution_count": null,
   "id": "1bd52f90-7c0b-4ed7-8d2a-7e09d285ac3c",
   "metadata": {},
   "outputs": [],
   "source": []
  },
  {
   "cell_type": "markdown",
   "id": "56ecc4f3-e7ee-4f27-9a00-c0f66adf895a",
   "metadata": {},
   "source": [
    "## Feedforward Neural Network\n",
    "\n",
    "$f(\\sum_{i} W_i X_i +b)$"
   ]
  },
  {
   "cell_type": "code",
   "execution_count": 12,
   "id": "83d6f225-d111-4de1-a088-12dce0d98895",
   "metadata": {},
   "outputs": [],
   "source": [
    "#코드 3-6 피드포워드 뉴럴 네트워크 계산 예시(1)\n",
    "import torch\n",
    "x = torch.tensor([2, 1])\n",
    "w1 = torch.tensor([[3, 2, -4], [2, -3, 1]])\n",
    "b1 = 1\n",
    "w2 = torch.tensor([[-1, 1], [1, 2], [3, 1]])\n",
    "b2 = -1"
   ]
  },
  {
   "cell_type": "code",
   "execution_count": 13,
   "id": "f6a5e0a0-6381-4d58-b712-e2cf5b26121a",
   "metadata": {},
   "outputs": [],
   "source": [
    "#코드 3-7 피드포워드 뉴럴 네트워크 계산 예시(2)\n",
    "h_preact = torch.matmul(x, w1) + b1\n",
    "h = torch.nn.functional.relu(h_preact)\n",
    "y = torch.matmul(h, w2) + b2"
   ]
  },
  {
   "cell_type": "code",
   "execution_count": 14,
   "id": "99ad973e-4acf-4c35-af0d-c80629010248",
   "metadata": {},
   "outputs": [
    {
     "data": {
      "text/plain": [
       "tensor([ 9,  2, -6])"
      ]
     },
     "execution_count": 14,
     "metadata": {},
     "output_type": "execute_result"
    }
   ],
   "source": [
    "h_preact"
   ]
  },
  {
   "cell_type": "code",
   "execution_count": 15,
   "id": "4ff4bacc-c17b-4842-a188-3b86415ee63f",
   "metadata": {},
   "outputs": [
    {
     "data": {
      "text/plain": [
       "tensor([9, 2, 0])"
      ]
     },
     "execution_count": 15,
     "metadata": {},
     "output_type": "execute_result"
    }
   ],
   "source": [
    "h"
   ]
  },
  {
   "cell_type": "code",
   "execution_count": 16,
   "id": "5b3e3d5e-aaa1-413b-b8c7-027c3862dd72",
   "metadata": {},
   "outputs": [
    {
     "data": {
      "text/plain": [
       "tensor([-8, 12])"
      ]
     },
     "execution_count": 16,
     "metadata": {},
     "output_type": "execute_result"
    }
   ],
   "source": [
    "y"
   ]
  },
  {
   "cell_type": "markdown",
   "id": "301e847c-a3a9-4bc8-8e0d-750b192ac547",
   "metadata": {},
   "source": [
    "## Residual Connection\n",
    "\n",
    "<img src =\"residual.png\">\n",
    "이미지 출처 : ratsgo's NLPBOOK<br>\n",
    "블록이나 레이어 계산을 건너뛰는 경로를 하나 두는 것을 말한다.\n",
    "<br> 입력을 x, 이번 계산 대상 블록을  F라고 할 때 잔차 연결은 F(x)+x로 간단히 실현한다.\\\n",
    "<br>\n",
    "블록 계산이 계속될 때 잔차 연결을 두는 것은 큰 효과가 있다.\n",
    "<img src=\"residual2.jpeg\">\n",
    "이미지 출처 : ratsgo's NLPBOOK<br>\n",
    "그림에서 오른쪽을 보면 잔차 연결을 두지 않았을 때는 을 연속으로 수행하는 경로 한 가지만 존재했으나, 잔차 연결을 블록마다 설정해둠으로써 모두 8가지의 새로운 경로가 생겼다. 다시 말해 모델이 다양한 관점에서 블록 계산을 수행하게 된다.\n",
    "<br>\n",
    "딥러닝 모델은 레이어가 많아지면 학습이 어려운 경향이 있다. 모델을 업데이트하기 위한 신호(그레이디언트)가 전달되는 경로가 길어지기 때문이다. 잔차 연결은 모델 중간에 블록을 건너뛰는 경로를 설정함으로써 학습을 쉽게 하는 효과까지 거둘 수 있다.\n",
    "\n",
    "## Layer Normalization\n",
    "미니 배치의 인스턴스($x$)별로 평균($E[x]$)을 빼주고 표준편차($\\sqrt E[x]$)로 나눠 정규화를 수행하는 기법<br>\n",
    "학습이 안정되고 속도가 빨라지는 효과<br>\n",
    "\n",
    "다음 수식에서 $B$ 와 $r$는 학습 과정에서 업데이트되는 가중치이며, $\\epsilon$은 분모가 0이 되는 걸 방지하려고 더해주는 고정값(보통 1e-5로 설정)\n",
    "$$y=\\frac {x-E[x]}  {\\sqrt {V[x]}+\\epsilon} *r + B $$\n",
    "<수식 레이어 정규화><br>\n",
    "배치의 첫 번째 데이터($x$=[1 2 3])의 평균과 표준편차는 각각 2, 0.8164인데, 이 값들을 바탕으로 수식 3-27과 같은 정규화 수식을 계산하게 된다.\n",
    "<br>\n"
   ]
  },
  {
   "cell_type": "code",
   "execution_count": 17,
   "id": "de6cb795-12c0-4bc8-a629-18f915207c3c",
   "metadata": {},
   "outputs": [],
   "source": [
    "\n",
    "#코드 3-8 레이어 정규화 예시\n",
    "import torch\n",
    "input = torch.tensor([[1.0, 2.0, 3.0], [1.0, 1.0, 1.0]])\n",
    "m = torch.nn.LayerNorm(input.shape[-1])\n",
    "output = m(input)"
   ]
  },
  {
   "cell_type": "code",
   "execution_count": 18,
   "id": "f8be9920-c667-45b1-a48d-2e03188b58ef",
   "metadata": {},
   "outputs": [
    {
     "data": {
      "text/plain": [
       "tensor([[-1.2247,  0.0000,  1.2247],\n",
       "        [ 0.0000,  0.0000,  0.0000]], grad_fn=<NativeLayerNormBackward0>)"
      ]
     },
     "execution_count": 18,
     "metadata": {},
     "output_type": "execute_result"
    }
   ],
   "source": [
    "output"
   ]
  },
  {
   "cell_type": "code",
   "execution_count": 19,
   "id": "f66c4213-1423-4cc4-b9b3-e669fd2404fe",
   "metadata": {},
   "outputs": [
    {
     "data": {
      "text/plain": [
       "Parameter containing:\n",
       "tensor([1., 1., 1.], requires_grad=True)"
      ]
     },
     "execution_count": 19,
     "metadata": {},
     "output_type": "execute_result"
    }
   ],
   "source": [
    "m.weight"
   ]
  },
  {
   "cell_type": "code",
   "execution_count": 20,
   "id": "94fd61a1-efeb-42ec-8b39-8e6b67e08bf6",
   "metadata": {},
   "outputs": [
    {
     "data": {
      "text/plain": [
       "Parameter containing:\n",
       "tensor([0., 0., 0.], requires_grad=True)"
      ]
     },
     "execution_count": 20,
     "metadata": {},
     "output_type": "execute_result"
    }
   ],
   "source": [
    "m.bias"
   ]
  },
  {
   "cell_type": "markdown",
   "id": "eb8b6b97-56ac-4c2e-ab15-470754ad8f84",
   "metadata": {},
   "source": [
    "<b>m.weight</b>는 , <b>m.bias</b>는 에 대응하는데, 파이토치의 <b>LayerNorm</b> 객체는 이 두 값을 각각 1과 0으로 초기화한다.\n",
    "<br>다시 말해 학습 초기 레이어 정규화 수행은 배치 인스턴스의 평균을 빼고 표준편차로 나눈 결과에 1을 곱한 후 0을 더한다.<br>\n",
    "이후 학습 과정에서는 task(예를 들면 기계 번역)를 가장 잘 수행하는 방향으로 이 값들을 업데이트한다.\n",
    "\n",
    "# 모델 학습 기법\n",
    "<hr>\n",
    "\n",
    "## 드롭 아웃\n",
    "* 과적합 방지\n",
    "* 뉴런의 일부를 확률적으로 0으로 대치하여 계산에서 제외하는 기법\n"
   ]
  },
  {
   "cell_type": "code",
   "execution_count": 21,
   "id": "48af3f68-d95e-4aa5-b973-24848b339fe0",
   "metadata": {},
   "outputs": [],
   "source": [
    "#코드 3-9 드롭아웃\n",
    "import torch\n",
    "m = torch.nn.Dropout(p=0.2)\n",
    "input = torch.randn(1, 10)\n",
    "output = m(input)"
   ]
  },
  {
   "cell_type": "code",
   "execution_count": 22,
   "id": "4710f7a3-14e0-4c18-b7c9-c105cf7d8b0d",
   "metadata": {},
   "outputs": [
    {
     "data": {
      "text/plain": [
       "tensor([[-0.3222,  0.8944,  1.6689,  1.5804, -0.0492, -0.3121,  0.5568,  0.1124,\n",
       "          0.1577, -0.1583]])"
      ]
     },
     "execution_count": 22,
     "metadata": {},
     "output_type": "execute_result"
    }
   ],
   "source": [
    "input"
   ]
  },
  {
   "cell_type": "code",
   "execution_count": 23,
   "id": "ee4aba59-f63a-4f2f-b87f-b9796cee52e7",
   "metadata": {},
   "outputs": [
    {
     "data": {
      "text/plain": [
       "tensor([[-0.4027,  1.1179,  2.0861,  1.9756, -0.0615, -0.3902,  0.6960,  0.1405,\n",
       "          0.1972, -0.1979]])"
      ]
     },
     "execution_count": 23,
     "metadata": {},
     "output_type": "execute_result"
    }
   ],
   "source": [
    "output"
   ]
  },
  {
   "cell_type": "markdown",
   "id": "b14dd86a-176f-4681-b10c-30beb1f60cdb",
   "metadata": {},
   "source": [
    "* 트랜스포머 모델에서 드롭아웃은 입력 임베딩과 최초 블록 사이, 블록과 블록 사이, 마지막 블록과 출력층 사이 등에 적용\n",
    "* 드롭아웃 비율은 10%($p=0.1$)로 설정하는 것이 일반적\n",
    "* 드롭아웃은 학습 과정에만 적용하고 학습이 끝나고 나서 인퍼런스 과정에서는 적용하지 않는다.\n",
    "<hr>\n",
    "\n",
    "## ADAM Optimizer\n",
    "딥러닝 모델 학습-> 모델 출려과 정답 사이의 error을 최소화하는 방향을 구하고, 이 방향에 맞춰 모델 전체의 Parameter들을 업데이트 하는 과정\n",
    "<br> Error = loss, loss를 최소화하는 방향을 gradient 라고 한다.\n",
    "<br> 오차를 최소화 하는 과정 -> Optimization\n",
    "\n",
    "<br>\n",
    "parameter -> 행렬, 벡터, 스칼라 따위의 모델 구성 요소\n",
    "<br>\n",
    "모델은 순전파(Forword Propagation) -> Error Estimation -> 역전파(Backward Propagation)<br>\n",
    "역전파는 chain Rule에 따라 미분으로 구한다. 이에 따라 미니 배치 단위로 모델 parameter를 업데이트 한다.<br>\n",
    "업데이트 할때 방향과 보폭을 정하는 것 -> Optimizer<br>\n",
    "learning rate"
   ]
  },
  {
   "cell_type": "code",
   "execution_count": null,
   "id": "c4b87658-8565-49ab-afab-c2ef42b9da15",
   "metadata": {},
   "outputs": [],
   "source": []
  }
 ],
 "metadata": {
  "kernelspec": {
   "display_name": "Python (myenv)",
   "language": "python",
   "name": "myenv"
  },
  "language_info": {
   "codemirror_mode": {
    "name": "ipython",
    "version": 3
   },
   "file_extension": ".py",
   "mimetype": "text/x-python",
   "name": "python",
   "nbconvert_exporter": "python",
   "pygments_lexer": "ipython3",
   "version": "3.9.18"
  }
 },
 "nbformat": 4,
 "nbformat_minor": 5
}
