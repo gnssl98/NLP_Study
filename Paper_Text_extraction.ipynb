{
 "cells": [
  {
   "cell_type": "code",
   "execution_count": 3,
   "id": "53480679-5cd8-4edf-a5e2-797ecb8f42e0",
   "metadata": {},
   "outputs": [
    {
     "name": "stdout",
     "output_type": "stream",
     "text": [
      "📄 논문에서 추출한 텍스트 (일부):\n",
      "Received 14 June 2024, accepted 13 July 2024, date of publication 16 July 2024, date of current version 24 July 2024.\n",
      "Digital Object Identifier 10.1 109/ACCESS.2024.3429420\n",
      "TSSAN: Time-Space Separable Attention Network\n",
      "for Intrusion Detection\n",
      "RUI XU\n",
      " , QI ZHANG, AND YUNJIE ZHANG\n",
      "School of Computer Science and Technology, Soochow University, Suzhou, Jiangsu 215008, China\n",
      "Corresponding author: Rui Xu (rxu1026@stu.suda.edu.cn)\n",
      "ABSTRACT With the continuous evolution of novel network attacks, traditi\n"
     ]
    }
   ],
   "source": [
    "import os\n",
    "import pypdf  # ✅ PyPDF 대신 pypdf 사용!\n",
    "\n",
    "def load_pdf_text(pdf_path):\n",
    "    text = \"\"\n",
    "    with open(pdf_path, \"rb\") as f:\n",
    "        reader = pypdf.PdfReader(f)\n",
    "        for page in reader.pages:\n",
    "            text += page.extract_text() + \"\\n\"\n",
    "    return text\n",
    "\n",
    "# 논문 PDF 파일 경로 지정\n",
    "pdf_path = \"/Users/anchanghun/Downloads/Document_ach/paper/9_AnomalyDetection/TSSAN_Time-Space_Separable_Attention_Network_for_Intrusion_Detection.pdf\"\n",
    "text = load_pdf_text(pdf_path)\n",
    "\n",
    "# 출력 확인\n",
    "print(f\"📄 논문에서 추출한 텍스트 (일부):\\n{text[:500]}\")"
   ]
  },
  {
   "cell_type": "code",
   "execution_count": 4,
   "id": "e2970a45-ff70-4cdd-8647-7c5ad93b46b4",
   "metadata": {},
   "outputs": [
    {
     "data": {
      "application/vnd.jupyter.widget-view+json": {
       "model_id": "b7623ed70a6341ec888d7c481806e569",
       "version_major": 2,
       "version_minor": 0
      },
      "text/plain": [
       "modules.json:   0%|          | 0.00/349 [00:00<?, ?B/s]"
      ]
     },
     "metadata": {},
     "output_type": "display_data"
    },
    {
     "data": {
      "application/vnd.jupyter.widget-view+json": {
       "model_id": "79844f386f7e47dfab93fe694807dc85",
       "version_major": 2,
       "version_minor": 0
      },
      "text/plain": [
       "config_sentence_transformers.json:   0%|          | 0.00/116 [00:00<?, ?B/s]"
      ]
     },
     "metadata": {},
     "output_type": "display_data"
    },
    {
     "data": {
      "application/vnd.jupyter.widget-view+json": {
       "model_id": "9fb9a920013b4fc5a2960c73dc421b68",
       "version_major": 2,
       "version_minor": 0
      },
      "text/plain": [
       "README.md:   0%|          | 0.00/10.7k [00:00<?, ?B/s]"
      ]
     },
     "metadata": {},
     "output_type": "display_data"
    },
    {
     "data": {
      "application/vnd.jupyter.widget-view+json": {
       "model_id": "37dc9de918c1403ca5d595ee686ca424",
       "version_major": 2,
       "version_minor": 0
      },
      "text/plain": [
       "sentence_bert_config.json:   0%|          | 0.00/53.0 [00:00<?, ?B/s]"
      ]
     },
     "metadata": {},
     "output_type": "display_data"
    },
    {
     "data": {
      "application/vnd.jupyter.widget-view+json": {
       "model_id": "9aa697fe6c854264800d609d3f512906",
       "version_major": 2,
       "version_minor": 0
      },
      "text/plain": [
       "config.json:   0%|          | 0.00/612 [00:00<?, ?B/s]"
      ]
     },
     "metadata": {},
     "output_type": "display_data"
    },
    {
     "data": {
      "application/vnd.jupyter.widget-view+json": {
       "model_id": "afc308a0f98a43b0aeddc47abd6b03fe",
       "version_major": 2,
       "version_minor": 0
      },
      "text/plain": [
       "model.safetensors:   0%|          | 0.00/90.9M [00:00<?, ?B/s]"
      ]
     },
     "metadata": {},
     "output_type": "display_data"
    },
    {
     "data": {
      "application/vnd.jupyter.widget-view+json": {
       "model_id": "4344e9daee034c50934056ba0a89c9d5",
       "version_major": 2,
       "version_minor": 0
      },
      "text/plain": [
       "tokenizer_config.json:   0%|          | 0.00/350 [00:00<?, ?B/s]"
      ]
     },
     "metadata": {},
     "output_type": "display_data"
    },
    {
     "data": {
      "application/vnd.jupyter.widget-view+json": {
       "model_id": "6677157a9d29419c898732c13b57ee50",
       "version_major": 2,
       "version_minor": 0
      },
      "text/plain": [
       "vocab.txt:   0%|          | 0.00/232k [00:00<?, ?B/s]"
      ]
     },
     "metadata": {},
     "output_type": "display_data"
    },
    {
     "data": {
      "application/vnd.jupyter.widget-view+json": {
       "model_id": "ffcb495836364dd5ac87c11078dc9c6e",
       "version_major": 2,
       "version_minor": 0
      },
      "text/plain": [
       "tokenizer.json:   0%|          | 0.00/466k [00:00<?, ?B/s]"
      ]
     },
     "metadata": {},
     "output_type": "display_data"
    },
    {
     "data": {
      "application/vnd.jupyter.widget-view+json": {
       "model_id": "96cbe791f7f84222a50bd1499628d7e9",
       "version_major": 2,
       "version_minor": 0
      },
      "text/plain": [
       "special_tokens_map.json:   0%|          | 0.00/112 [00:00<?, ?B/s]"
      ]
     },
     "metadata": {},
     "output_type": "display_data"
    },
    {
     "data": {
      "application/vnd.jupyter.widget-view+json": {
       "model_id": "110e9af004b3473ca7a23a1b31c55025",
       "version_major": 2,
       "version_minor": 0
      },
      "text/plain": [
       "1_Pooling/config.json:   0%|          | 0.00/190 [00:00<?, ?B/s]"
      ]
     },
     "metadata": {},
     "output_type": "display_data"
    },
    {
     "name": "stdout",
     "output_type": "stream",
     "text": [
      "🔍 저장된 문장 개수: 1265\n"
     ]
    }
   ],
   "source": [
    "import faiss\n",
    "from sentence_transformers import SentenceTransformer\n",
    "import numpy as np\n",
    "\n",
    "# 무료 임베딩 모델 (Hugging Face)\n",
    "embedding_model = SentenceTransformer(\"sentence-transformers/all-MiniLM-L6-v2\")\n",
    "\n",
    "# 텍스트를 문장 단위로 나누기\n",
    "sentences = text.split(\"\\n\")\n",
    "embeddings = embedding_model.encode(sentences)\n",
    "\n",
    "# FAISS 벡터 저장소 생성\n",
    "index = faiss.IndexFlatL2(embeddings.shape[1])\n",
    "index.add(np.array(embeddings))\n",
    "\n",
    "# 저장된 벡터 개수 확인\n",
    "print(f\"🔍 저장된 문장 개수: {index.ntotal}\")"
   ]
  },
  {
   "cell_type": "code",
   "execution_count": 5,
   "id": "295cf296-47bf-42a6-bf74-cbcafbd6d7bf",
   "metadata": {},
   "outputs": [
    {
     "name": "stdout",
     "output_type": "stream",
     "text": [
      "🔍 저장된 문장 개수: 1265\n"
     ]
    }
   ],
   "source": [
    "import faiss\n",
    "from sentence_transformers import SentenceTransformer\n",
    "import numpy as np\n",
    "\n",
    "# 무료 임베딩 모델 (Hugging Face)\n",
    "embedding_model = SentenceTransformer(\"sentence-transformers/all-MiniLM-L6-v2\")\n",
    "\n",
    "# 텍스트를 문장 단위로 나누기\n",
    "sentences = text.split(\"\\n\")\n",
    "embeddings = embedding_model.encode(sentences)\n",
    "\n",
    "# FAISS 벡터 저장소 생성\n",
    "index = faiss.IndexFlatL2(embeddings.shape[1])\n",
    "index.add(np.array(embeddings))\n",
    "\n",
    "# 저장된 벡터 개수 확인\n",
    "print(f\"🔍 저장된 문장 개수: {index.ntotal}\")"
   ]
  },
  {
   "cell_type": "code",
   "execution_count": 6,
   "id": "2d3774a7-b5ba-44d5-8581-b448e27e2bcc",
   "metadata": {},
   "outputs": [
    {
     "name": "stdout",
     "output_type": "stream",
     "text": [
      "🔍 검색된 문서 내용:\n",
      "To assess the performance of TSSAN, we conducted\n",
      "K LN\n",
      "TSSAN (supervised). Nevertheless, in terms of training\n"
     ]
    }
   ],
   "source": [
    "def search_relevant_text(query, top_k=3):\n",
    "    query_embedding = embedding_model.encode([query])\n",
    "    distances, indices = index.search(np.array(query_embedding), top_k)\n",
    "    \n",
    "    results = [sentences[idx] for idx in indices[0]]\n",
    "    return \"\\n\".join(results)\n",
    "\n",
    "# 사용자 질문 입력\n",
    "query = \"이 논문의 주요 기여는 무엇인가?\"\n",
    "retrieved_text = search_relevant_text(query)\n",
    "\n",
    "print(f\"🔍 검색된 문서 내용:\\n{retrieved_text}\")"
   ]
  },
  {
   "cell_type": "code",
   "execution_count": null,
   "id": "6f35f9c0-f9f6-4d39-866a-1903d7c50834",
   "metadata": {},
   "outputs": [
    {
     "data": {
      "application/vnd.jupyter.widget-view+json": {
       "model_id": "0b2c582d8bfb414f84913dcd8e0f7283",
       "version_major": 2,
       "version_minor": 0
      },
      "text/plain": [
       "config.json:   0%|          | 0.00/1.05k [00:00<?, ?B/s]"
      ]
     },
     "metadata": {},
     "output_type": "display_data"
    },
    {
     "data": {
      "application/vnd.jupyter.widget-view+json": {
       "model_id": "65dcb740b44b4e6a98f35d6b85aa4521",
       "version_major": 2,
       "version_minor": 0
      },
      "text/plain": [
       "model.safetensors.index.json:   0%|          | 0.00/17.7k [00:00<?, ?B/s]"
      ]
     },
     "metadata": {},
     "output_type": "display_data"
    },
    {
     "data": {
      "application/vnd.jupyter.widget-view+json": {
       "model_id": "8a10f61fe8384ce48cb92fb20d38cb51",
       "version_major": 2,
       "version_minor": 0
      },
      "text/plain": [
       "Downloading shards:   0%|          | 0/2 [00:00<?, ?it/s]"
      ]
     },
     "metadata": {},
     "output_type": "display_data"
    },
    {
     "data": {
      "application/vnd.jupyter.widget-view+json": {
       "model_id": "5f8f8f9e92004da39845e2082e6e6a78",
       "version_major": 2,
       "version_minor": 0
      },
      "text/plain": [
       "model-00001-of-00002.safetensors:   0%|          | 0.00/9.95G [00:00<?, ?B/s]"
      ]
     },
     "metadata": {},
     "output_type": "display_data"
    },
    {
     "data": {
      "application/vnd.jupyter.widget-view+json": {
       "model_id": "6ae6eda4a6cb4712a034bf6c99216238",
       "version_major": 2,
       "version_minor": 0
      },
      "text/plain": [
       "model-00002-of-00002.safetensors:   0%|          | 0.00/4.48G [00:00<?, ?B/s]"
      ]
     },
     "metadata": {},
     "output_type": "display_data"
    },
    {
     "data": {
      "application/vnd.jupyter.widget-view+json": {
       "model_id": "ab771d93e27446f2819366a965029616",
       "version_major": 2,
       "version_minor": 0
      },
      "text/plain": [
       "Loading checkpoint shards:   0%|          | 0/2 [00:00<?, ?it/s]"
      ]
     },
     "metadata": {},
     "output_type": "display_data"
    }
   ],
   "source": [
    "from transformers import pipeline\n",
    "\n",
    "# ✅ 무료 공개 LLM 모델 사용 (Gated Repo 필요 없음)\n",
    "qa_pipeline = pipeline(\"text-generation\", model=\"tiiuae/falcon-7b-instruct\")\n",
    "\n",
    "def generate_answer(query, context):\n",
    "    prompt = f\"질문: {query}\\n\\n관련 정보: {context}\\n\\n답변:\"\n",
    "    response = qa_pipeline(prompt, max_length=200, do_sample=True)\n",
    "    return response[0]['generated_text']\n",
    "\n",
    "# 테스트 실행\n",
    "query = \"이 논문의 주요 기여는 무엇인가?\"\n",
    "context = \"논문의 핵심 내용을 포함한 검색 결과\"\n",
    "answer = generate_answer(query, context)\n",
    "\n",
    "print(f\"📝 질문: {query}\\n💡 답변: {answer}\")"
   ]
  },
  {
   "cell_type": "code",
   "execution_count": null,
   "id": "881e1182-0d7e-4aa0-944e-a07b1279c107",
   "metadata": {},
   "outputs": [],
   "source": [
    "def summarize_text(text):\n",
    "    prompt = f\"다음 논문 내용을 요약해줘:\\n{text[:2000]}\"  # 길이 제한 (2000자)\n",
    "    response = qa_pipeline(prompt, max_length=300, do_sample=True)\n",
    "    return response[0]['generated_text']\n",
    "\n",
    "summary = summarize_text(text)\n",
    "\n",
    "print(f\"📄 논문 요약:\\n{summary}\")"
   ]
  },
  {
   "cell_type": "code",
   "execution_count": null,
   "id": "19e73648-d217-4fa1-8686-64e60a3e2ce5",
   "metadata": {},
   "outputs": [],
   "source": []
  },
  {
   "cell_type": "code",
   "execution_count": null,
   "id": "d614e6db-d8f3-44e3-a1e3-906b4b537e19",
   "metadata": {},
   "outputs": [],
   "source": []
  }
 ],
 "metadata": {
  "kernelspec": {
   "display_name": "Python (myenv)",
   "language": "python",
   "name": "myenv"
  },
  "language_info": {
   "codemirror_mode": {
    "name": "ipython",
    "version": 3
   },
   "file_extension": ".py",
   "mimetype": "text/x-python",
   "name": "python",
   "nbconvert_exporter": "python",
   "pygments_lexer": "ipython3",
   "version": "3.9.18"
  }
 },
 "nbformat": 4,
 "nbformat_minor": 5
}
